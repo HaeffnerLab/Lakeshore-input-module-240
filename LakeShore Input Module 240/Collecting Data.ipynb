{
 "cells": [
  {
   "cell_type": "code",
   "execution_count": 12,
   "metadata": {},
   "outputs": [],
   "source": [
    "from lakeshore import Model240, Model240InputParameter\n",
    "from time import sleep\n",
    "import csv\n",
    "from itertools import count"
   ]
  },
  {
   "cell_type": "code",
   "execution_count": 13,
   "metadata": {},
   "outputs": [],
   "source": [
    "TIME_INCREMENT = 30 #in seconds\n",
    "FILENAME = 'temp data.csv'"
   ]
  },
  {
   "cell_type": "markdown",
   "metadata": {},
   "source": [
    "# Setting up config"
   ]
  },
  {
   "cell_type": "code",
   "execution_count": 14,
   "metadata": {},
   "outputs": [],
   "source": [
    "# Connect to the first available Model 240 over USB\n",
    "my_model_240 = Model240()\n",
    "\n",
    "# Define the channel configuration for a sensor with a negative temperature coefficient, autorange disabled\n",
    "# current reversal disabled, the channel enabled, and set to the 100 kOhm range\n",
    "rtd_config = Model240InputParameter(my_model_240.SensorTypes.NTC_RTD, False, False, my_model_240.Units.SENSOR, True,\n",
    "                                    my_model_240.InputRange.RANGE_NTCRTD_100_KIL_OHMS)\n",
    "\n",
    "# Apply the configuration to all channels\n",
    "for channel in range(1, 3):\n",
    "    my_model_240.set_input_parameter(channel, rtd_config)\n",
    "\n",
    "sleep(1)"
   ]
  },
  {
   "cell_type": "markdown",
   "metadata": {},
   "source": [
    "# Writing File"
   ]
  },
  {
   "cell_type": "code",
   "execution_count": 15,
   "metadata": {},
   "outputs": [],
   "source": [
    "#begin writing file\n",
    "fields = ['Time (s)', 'Channel 1 (V)', 'Channel 1 (K)', 'Channel 2 (V)', 'Channel 2 (K)']\n",
    "\n",
    "with open(FILENAME, 'w') as csvfile:\n",
    "    #creating a csv writer object\n",
    "    csvwriter = csv.writer(csvfile, lineterminator = '\\n')\n",
    "    #writing the fields\n",
    "    csvwriter.writerow(fields)"
   ]
  },
  {
   "cell_type": "code",
   "execution_count": 16,
   "metadata": {},
   "outputs": [],
   "source": [
    "#updating file\n",
    "def updateFile (filename, row):\n",
    "    with open(filename, 'a') as csvfile:\n",
    "        csvwriter = csv.writer(csvfile, lineterminator = '\\n')\n",
    "        csvwriter.writerow(row)"
   ]
  },
  {
   "cell_type": "markdown",
   "metadata": {},
   "source": [
    "# Loop - Collecting Data"
   ]
  },
  {
   "cell_type": "code",
   "execution_count": 17,
   "metadata": {},
   "outputs": [],
   "source": [
    "def collectData():\n",
    "    index = count()\n",
    "    while (True):\n",
    "        time = next(index) * TIME_INCREMENT\n",
    "        ch1V = my_model_240.get_sensor_reading(1)\n",
    "        ch1K = my_model_240.get_kelvin_reading(1)\n",
    "        ch2V = my_model_240.get_sensor_reading(2)\n",
    "        ch2K = my_model_240.get_kelvin_reading(2)\n",
    "\n",
    "        row = [time, ch1V, ch1K, ch2V, ch2K]\n",
    "        updateFile(FILENAME, row)\n",
    "\n",
    "        sleep(TIME_INCREMENT)"
   ]
  },
  {
   "cell_type": "code",
   "execution_count": 18,
   "metadata": {},
   "outputs": [],
   "source": [
    "def testCollect():\n",
    "    index1 = count()\n",
    "    index2 = count()\n",
    "    index3 = count()\n",
    "    index4 = count()\n",
    "    index5 = count()\n",
    "    while (True):\n",
    "        time = next(index1) * TIME_INCREMENT\n",
    "        ch1V = next(index2)\n",
    "        ch1K = next(index3) * 2\n",
    "        ch2V = next(index4) + 1\n",
    "        ch2K = next(index5) * 2 + 1\n",
    "\n",
    "        row = [time, ch1V, ch1K, ch2V, ch2K]\n",
    "        updateFile(FILENAME, row)\n",
    "\n",
    "        sleep(TIME_INCREMENT)"
   ]
  },
  {
   "cell_type": "code",
   "execution_count": 19,
   "metadata": {},
   "outputs": [
    {
     "ename": "KeyboardInterrupt",
     "evalue": "",
     "output_type": "error",
     "traceback": [
      "\u001b[1;31m---------------------------------------------------------------------------\u001b[0m",
      "\u001b[1;31mKeyboardInterrupt\u001b[0m                         Traceback (most recent call last)",
      "Cell \u001b[1;32mIn[19], line 1\u001b[0m\n\u001b[1;32m----> 1\u001b[0m \u001b[43mcollectData\u001b[49m\u001b[43m(\u001b[49m\u001b[43m)\u001b[49m\n\u001b[0;32m      2\u001b[0m \u001b[38;5;66;03m#testCollect()\u001b[39;00m\n",
      "Cell \u001b[1;32mIn[17], line 13\u001b[0m, in \u001b[0;36mcollectData\u001b[1;34m()\u001b[0m\n\u001b[0;32m     10\u001b[0m row \u001b[38;5;241m=\u001b[39m [time, ch1V, ch1K, ch2V, ch2K]\n\u001b[0;32m     11\u001b[0m updateFile(FILENAME, row)\n\u001b[1;32m---> 13\u001b[0m \u001b[43msleep\u001b[49m\u001b[43m(\u001b[49m\u001b[43mTIME_INCREMENT\u001b[49m\u001b[43m)\u001b[49m\n",
      "\u001b[1;31mKeyboardInterrupt\u001b[0m: "
     ]
    }
   ],
   "source": [
    "collectData()\n",
    "#testCollect()"
   ]
  }
 ],
 "metadata": {
  "kernelspec": {
   "display_name": "base",
   "language": "python",
   "name": "python3"
  },
  "language_info": {
   "codemirror_mode": {
    "name": "ipython",
    "version": 3
   },
   "file_extension": ".py",
   "mimetype": "text/x-python",
   "name": "python",
   "nbconvert_exporter": "python",
   "pygments_lexer": "ipython3",
   "version": "3.11.9"
  }
 },
 "nbformat": 4,
 "nbformat_minor": 2
}
